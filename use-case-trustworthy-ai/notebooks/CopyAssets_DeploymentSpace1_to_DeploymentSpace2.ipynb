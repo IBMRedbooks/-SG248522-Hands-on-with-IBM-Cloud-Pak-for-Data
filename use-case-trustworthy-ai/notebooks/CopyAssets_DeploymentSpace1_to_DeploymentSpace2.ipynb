{
 "cells": [
  {
   "cell_type": "markdown",
   "metadata": {
    "id": "5b643d5d-b295-4667-95fc-c4ef3afeb9a0"
   },
   "source": [
    "# Overview"
   ]
  },
  {
   "cell_type": "markdown",
   "metadata": {
    "id": "aadd4f9f-1c77-495a-ae47-652c8f55c17a"
   },
   "source": [
    "In this notebook, you leverage the cpdctl command to copy assets from one deployment space of Cloud Pak for Data to another deployment space. This is typically applicable in MLOps process where you want to promote the relevant data assets and AI models from an initial deployment space, such as Pre-Prod (or UAT) deployment space, to another deployment space, such as Prod deployment space.\n",
    "\n",
    "For purposes of AI governance as well as CI/CD component of MLOps, it is important to be able to automate the process of promoting relevant assets from one deployment space owner by development team to another deployment space owned by the QA team.\n",
    "\n",
    "Please note that the two deployment spaces could exist on the same Cloud Pak for Data cluster or could belong to two different Cloud Pak for Data clusters in different environments.\n",
    "Execution Steps\n",
    "\n",
    "In order to leverage cpdctl to copy assets from one deployment space to another, you need to provide the following information:\n",
    "\n",
    "- SOURCE_CPD_URL : The url for the source Cloud Pak for Data cluster\n",
    "- SOURCE_CPD_USERNAME: The username for the source Cloud Pak for Data cluster\n",
    "- SOURCE_CPD_PASSWORD: The password for the source Cloud Pak for Data cluster\n",
    "- TARGET_CPD_URL : The url for the target Cloud Pak for Data cluster\n",
    "- TARGET_CPD_USERNAME: The username for the target Cloud Pak for Data cluster\n",
    "- TARGET_CPD_PASSWORD: The password for the target Cloud Pak for Data cluster\n",
    "- SOURCE_DEPLOYMENT_SPACE_NAME: The name of the deployment space on the source Cloud Pak for Data cluster (source deployment space should exist).\n",
    "- TARGET_DEPLOYMENT_SPACE_NAME: The name of the deployment space on the target Cloud Pak for Data cluster (any name you choose since it will be created).\n",
    "- TARGET_MODEL_NAME: The name of the model in the atarget deployment space (any name you choose since it will be created).\n",
    "\n",
    "Given this information, this notebook will define the cpdctl contexts corresponding to the source and target Cloud Pak for Data clusters, create a new deployment space on the target cluster, and copy all assets from the source deployment space to the target deployment space.\n",
    "\n",
    "The code assumes that the SOURCE_DEPLOYMENT_SPACE_NAME exists and contains the relevant assets and that the TARGET_DEPLOYMENT_SPACE_NAME also exists but has no assets.\n",
    "\n",
    "Also please NOTE that when running this notebook inside IBM Cloud Pak for Data (CP4D) cluster, cpdctl takes advantage of [zero-configuration mode](https://github.com/IBM/cpdctl#zero-configuration)  which means it can connect to the CP4D without explicit configuration. In that case, no need to explicitly configure context. Since this notebook is designed to explicitly run within the Cloud Pak for Data cluster, we will comment out the cells for configuring context. If you plan to use cpdctl in automation pipelines external to the cluster, then you need to include these configuration steps."
   ]
  },
  {
   "cell_type": "markdown",
   "metadata": {
    "id": "318e7baf-766d-4ff6-b3a8-f52b32cd1af6"
   },
   "source": [
    "## Before you begin\n",
    "Import the following libraries:"
   ]
  },
  {
   "cell_type": "code",
   "execution_count": null,
   "metadata": {
    "id": "a1d6113d-8a1a-48d8-b57b-d9d95f3e67dd"
   },
   "outputs": [],
   "source": [
    "import base64\n",
    "import json\n",
    "import os\n",
    "import requests\n",
    "import platform\n",
    "import tarfile\n",
    "import zipfile\n",
    "import subprocess\n",
    "from IPython.core.display import display, HTML"
   ]
  },
  {
   "cell_type": "markdown",
   "metadata": {
    "id": "cc332416931947ac841c0623790e0c17"
   },
   "source": [
    "Download the cpdctl binary and then display the version number:"
   ]
  },
  {
   "cell_type": "code",
   "execution_count": null,
   "metadata": {
    "id": "8680a5a8e33c438897e057667da9000b"
   },
   "outputs": [],
   "source": [
    "PLATFORM = platform.system().lower()\n",
    "CPDCTL_ARCH = \"{}_amd64\".format(PLATFORM)\n",
    "CPDCTL_RELEASES_URL=\"https://api.github.com/repos/IBM/cpdctl/releases\"\n",
    "CWD = os.getcwd()\n",
    "PATH = os.environ['PATH']\n",
    "CPD_CONFIG = os.path.join(CWD, '.cpdctl.config.yml')\n",
    "\n",
    "response = requests.get(CPDCTL_RELEASES_URL)\n",
    "assets = response.json()[0]['assets']\n",
    "platform_asset = next(a for a in assets if CPDCTL_ARCH in a['name'])\n",
    "cpdctl_url = platform_asset['url']\n",
    "cpdctl_file_name = platform_asset['name']\n",
    "        \n",
    "response = requests.get(cpdctl_url, headers={'Accept': 'application/octet-stream'})\n",
    "with open(cpdctl_file_name, 'wb') as f:\n",
    "    f.write(response.content)\n",
    "    \n",
    "display(HTML('<code>cpdctl</code> binary downloaded from: <a href=\"{}\">{}</a>'.format(platform_asset['browser_download_url'], platform_asset['name'])))"
   ]
  },
  {
   "cell_type": "code",
   "execution_count": null,
   "metadata": {
    "id": "792c49a264c541c29a97de921d96dd61"
   },
   "outputs": [],
   "source": [
    "%%capture\n",
    "\n",
    "%env PATH={CWD}:{PATH}\n",
    "%env CPD_CONFIG={CPD_CONFIG}"
   ]
  },
  {
   "cell_type": "code",
   "execution_count": null,
   "metadata": {
    "id": "67ab1d42b5004b1bb489327291e24062"
   },
   "outputs": [],
   "source": [
    "if cpdctl_file_name.endswith('tar.gz'):\n",
    "    with tarfile.open(cpdctl_file_name, \"r:gz\") as tar:\n",
    "        tar.extractall()\n",
    "elif cpdctl_file_name.endswith('zip'):\n",
    "    with zipfile.ZipFile(cpdctl_file_name, 'r') as zf:\n",
    "        zf.extractall()\n",
    "\n",
    "if CPD_CONFIG and os.path.exists(CPD_CONFIG):\n",
    "    os.remove(CPD_CONFIG)\n",
    "    \n",
    "version_r = ! cpdctl version\n",
    "CPDCTL_VERSION = version_r.s\n",
    "\n",
    "print(\"cpdctl version: {}\".format(CPDCTL_VERSION))"
   ]
  },
  {
   "cell_type": "code",
   "execution_count": null,
   "metadata": {
    "id": "2f0be9be12844e04a272d98bd4c4e390"
   },
   "outputs": [],
   "source": [
    "# Code assumes both deployment spaces exist\n",
    "SOURCE_DEPLOYMENT_SPACE_NAME='churnUATspace' # For example: 'churnUATspace'\n",
    "TARGET_DEPLOYMENT_SPACE_NAME='churn_prod_space' # For example: 'churn_prod_space'\n",
    "\n",
    "# Provide the ML Model name in the source deployment space (model must exist)\n",
    "# and the desired Deployment Model name in the target deployment space\n",
    "SOURCE_MODEL_NAME='Churn Model'\n",
    "TARGET_DEPLOYMENT_NAME='Churn_Deployment_Prod'"
   ]
  },
  {
   "cell_type": "markdown",
   "metadata": {
    "id": "1bce50ad-2fbc-46ae-9bba-132cd5aef1ee"
   },
   "source": [
    "List available spaces in context:"
   ]
  },
  {
   "cell_type": "code",
   "execution_count": null,
   "metadata": {
    "id": "8bc56e3a-d381-4790-8eb3-a44bba7d7842"
   },
   "outputs": [],
   "source": [
    "! cpdctl space list"
   ]
  },
  {
   "cell_type": "code",
   "execution_count": null,
   "metadata": {
    "id": "d96af87dfeb143f396ed463bc8c99b3f"
   },
   "outputs": [],
   "source": [
    "def getSpaceID(name):\n",
    "    cmd=\"cpdctl space list --output json\" + \" --jmes-query \\\"resources[?entity.name == \" + \"'\" + name + \"'\" + \"].metadata.id\\\"\"  \n",
    "    print(\"executing command: \", cmd)\n",
    "    \n",
    "    result = subprocess.getoutput(cmd)\n",
    "    space_id=json.loads(result)\n",
    "    if len(space_id) != 1:\n",
    "        print(\"Error, found \", len(space_id), \" spaces with the name: \", name)\n",
    "    return space_id[0]"
   ]
  },
  {
   "cell_type": "code",
   "execution_count": null,
   "metadata": {
    "id": "592a7282cfcd4de48056c71e9ad10faf"
   },
   "outputs": [],
   "source": [
    "source_deployment_spaceID=getSpaceID(SOURCE_DEPLOYMENT_SPACE_NAME)\n",
    "print(\"Source Deployment Space ID: \", source_deployment_spaceID)"
   ]
  },
  {
   "cell_type": "code",
   "execution_count": null,
   "metadata": {
    "id": "52ffae729ca344a380410217e87e484d"
   },
   "outputs": [],
   "source": [
    "source_ml_models = ! cpdctl ml model list --space-id {source_deployment_spaceID} --output json --jmes-query \"resources[*].metadata\"\n",
    "ML_MODEL_IDS = json.loads(source_ml_models.s)\n",
    "for mlmodel in ML_MODEL_IDS:\n",
    "    if mlmodel['name'] == SOURCE_MODEL_NAME:\n",
    "        MODEL_ID = mlmodel['id']"
   ]
  },
  {
   "cell_type": "code",
   "execution_count": null,
   "metadata": {
    "id": "e44895d9608141708eecf6d4d3af6177"
   },
   "outputs": [],
   "source": [
    "source_ml_models"
   ]
  },
  {
   "cell_type": "code",
   "execution_count": null,
   "metadata": {
    "id": "8ea19deb16a04c97be2d92ef7e0490d4"
   },
   "outputs": [],
   "source": [
    "MODEL_ID"
   ]
  },
  {
   "cell_type": "code",
   "execution_count": null,
   "metadata": {
    "id": "78ac900f65cd46e3806e9466d05a814a"
   },
   "outputs": [],
   "source": [
    "# Export the model from source deployment space\n",
    "EXPORT = {\n",
    "    'asset_ids': [MODEL_ID]\n",
    "}\n",
    "EXPORT_JSON = json.dumps(EXPORT)\n",
    "##! cpdctl config context use source\n",
    "result = ! cpdctl asset export start --space-id {source_deployment_spaceID} --assets '{EXPORT_JSON}' --name source-model --output json --jmes-query \"metadata.id\"\n",
    "EXPORT_ID = result.s\n",
    "print(\"The new export with ID: {}\".format(EXPORT_ID))"
   ]
  },
  {
   "cell_type": "code",
   "execution_count": null,
   "metadata": {
    "id": "b0b10625eebf4be783d8e2f0955aa1b5"
   },
   "outputs": [],
   "source": [
    "# Download exported source model as zip file\n",
    "! cpdctl asset export download --space-id {source_deployment_spaceID} --export-id {EXPORT_ID} --output-file source-model.zip"
   ]
  },
  {
   "cell_type": "code",
   "execution_count": null,
   "metadata": {
    "id": "83d75a8fd6124ead8cad0670b55e15ca"
   },
   "outputs": [],
   "source": [
    "TARGET_SPACE_ID=getSpaceID(TARGET_DEPLOYMENT_SPACE_NAME)\n",
    "print(\"Target Deployment Space ID: \", TARGET_SPACE_ID)"
   ]
  },
  {
   "cell_type": "code",
   "execution_count": null,
   "metadata": {
    "id": "9a27e2d942fb405b970556ade8c58ea2"
   },
   "outputs": [],
   "source": [
    "result = ! cpdctl asset import start --space-id {TARGET_SPACE_ID} --import-file source-model.zip --output json --jmes-query \"metadata.id\" --raw-output\n",
    "IMPORT_ID = result.s\n",
    "print(\"The new import ID is: {}\".format(IMPORT_ID))\n"
   ]
  },
  {
   "cell_type": "code",
   "execution_count": null,
   "metadata": {
    "id": "e906efd5ae064092893c08ddf2e66296"
   },
   "outputs": [],
   "source": [
    "! cpdctl asset import get --space-id {TARGET_SPACE_ID} --import-id {IMPORT_ID}"
   ]
  },
  {
   "cell_type": "code",
   "execution_count": null,
   "metadata": {
    "id": "3478fc5a326041e9962f1d697540291b"
   },
   "outputs": [],
   "source": [
    "! cpdctl ml model list --space-id {TARGET_SPACE_ID}"
   ]
  },
  {
   "cell_type": "code",
   "execution_count": null,
   "metadata": {
    "id": "e85479010bd946ad9fe72fd1ca609e9c"
   },
   "outputs": [],
   "source": [
    "result = ! cpdctl ml model list --space-id {TARGET_SPACE_ID} --output json --jmes-query \"resources[0].metadata.id\" --raw-output\n",
    "TARGET_MODEL_ID = result.s\n",
    "print(\"TARGET model ID is: {}\".format(TARGET_MODEL_ID))"
   ]
  },
  {
   "cell_type": "code",
   "execution_count": null,
   "metadata": {
    "id": "8b42386293c64cd98894bc7d58c7dcea"
   },
   "outputs": [],
   "source": [
    "ASSET_JSON = json.dumps({\"id\": TARGET_MODEL_ID})\n",
    "ONLINE_JSON = json.dumps({})\n",
    "\n",
    "! cpdctl ml deployment create --space-id {TARGET_SPACE_ID} --asset '{ASSET_JSON}' --online '{ONLINE_JSON}' --name {TARGET_DEPLOYMENT_NAME}"
   ]
  },
  {
   "cell_type": "markdown",
   "metadata": {
    "id": "dfc5d93dfa934cfa85b0efdd05f7de06"
   },
   "source": [
    "\n",
    "## Verify Deployment\n",
    "\n",
    "At this point, a new model deployment should appear in your target deployment space. The following steps explain how to verify and test the model using the UI.\n",
    "\n",
    "- Navigate to your target deployment space: Select the Navigation Menu (top left hamburger icon), right click on Deployments, and select Open Link in New Tab.\n",
    "- In the new tab, select the Spaces tab and click on the name of the target deployment space (for example, churn_prod_space)\n",
    "- On the Deployments/\\<target space name> page, click on Deployments tab.\n",
    "- Verify the TARGET_MODEL_NAME appears in the list of deployed models. Click the TARGET_MODEL_NAME model.\n",
    "- On the Deployed model page, click the Test tab and provide a sample test to validate the model returns predictions as expected.\n",
    "\n",
    "In the remaining cells, we run model deployment verification using Python client.\n",
    "\n"
   ]
  },
  {
   "cell_type": "code",
   "execution_count": null,
   "metadata": {
    "id": "ab1759d1895a474685452be2fe119d28"
   },
   "outputs": [],
   "source": [
    "cpdtoken=os.environ['USER_ACCESS_TOKEN']\n",
    "wml_credentials = {\n",
    "\"token\": cpdtoken,\n",
    "\"instance_id\" : \"openshift\",\n",
    "\"url\": os.environ['RUNTIME_ENV_APSX_URL'],\n",
    "\"version\": \"4.0\"\n",
    "}\n",
    "\n",
    "from ibm_watson_machine_learning import APIClient\n",
    "client = APIClient(wml_credentials)"
   ]
  },
  {
   "cell_type": "code",
   "execution_count": null,
   "metadata": {
    "id": "ecb3bebd05784a8a8f6f7a0db206361f"
   },
   "outputs": [],
   "source": [
    "def getSpaceIDwml(wml_client,space_name):\n",
    "    spaces = wml_client.spaces.get_details()['resources'];\n",
    "    spaceList = next(item for item in spaces if item['entity']['name']==space_name)\n",
    "    spaceID = spaceList['metadata']['id']\n",
    "    return spaceID"
   ]
  },
  {
   "cell_type": "code",
   "execution_count": null,
   "metadata": {
    "id": "2a490e2c3dc541b7a30ca7d5f5a8b9aa"
   },
   "outputs": [],
   "source": [
    "space_name=TARGET_DEPLOYMENT_SPACE_NAME\n",
    "space_id = getSpaceIDwml(client,space_name)\n",
    "print(space_id)\n",
    "client.set.default_space(space_id)"
   ]
  },
  {
   "cell_type": "code",
   "execution_count": null,
   "metadata": {
    "id": "434738fd52834f99876e717e26964175"
   },
   "outputs": [],
   "source": [
    "space_details=client.spaces.get_details(space_id)"
   ]
  },
  {
   "cell_type": "code",
   "execution_count": null,
   "metadata": {
    "id": "2e4fe67f797740f09110d51227778878"
   },
   "outputs": [],
   "source": [
    "client.repository.list_models()"
   ]
  },
  {
   "cell_type": "code",
   "execution_count": null,
   "metadata": {
    "id": "f148dda901bd4e20af0c32d305da904c"
   },
   "outputs": [],
   "source": [
    "def getModelDetails(wml_client,deployment_name):\n",
    "    models = wml_client.deployments.get_details()['resources'];\n",
    "    modelList = next(item for item in models if item['entity']['name']==deployment_name)\n",
    "    #modelID = modelList['metadata']['id']\n",
    "    #return modelID\n",
    "    return modelList\n",
    "    "
   ]
  },
  {
   "cell_type": "code",
   "execution_count": null,
   "metadata": {
    "id": "ba91fc27da93465981830d274d2fbd46"
   },
   "outputs": [],
   "source": [
    "model_name=TARGET_DEPLOYMENT_NAME\n",
    "model_details = getModelDetails(client,model_name)\n",
    "print(model_details)"
   ]
  },
  {
   "cell_type": "code",
   "execution_count": null,
   "metadata": {
    "id": "5571be2f4c784ae19bbfa505cb603fee"
   },
   "outputs": [],
   "source": [
    "# Score the model on a test dataset\n",
    "scoring_payload = {\n",
    "    \"input_data\": [{\n",
    "        'fields': ['ID', 'LONGDISTANCE', 'INTERNATIONAL', 'LOCAL', 'DROPPED', 'PAYMETHOD', 'LOCALBILLTYPE', 'LONGDISTANCEBILLTYPE', 'USAGE', 'RATEPLAN', 'GENDER','STATUS', 'CHILDREN', 'ESTINCOME', 'CAROWNER', 'AGE'],\n",
    "        'values': [[1,28,0,60,0,\"Auto\",\"FreeLocal\",\"Standard\",89,4,\"F\",\"M\",1,23000,\"N\",45]]}]\n",
    "}"
   ]
  },
  {
   "cell_type": "code",
   "execution_count": null,
   "metadata": {
    "id": "6e8c5bf630154c4baeea8b7ff95b3197"
   },
   "outputs": [],
   "source": [
    "modelID=model_details['metadata']['id']\n",
    "predictions = client.deployments.score(modelID, scoring_payload)\n",
    "print(json.dumps(predictions, indent=2))"
   ]
  },
  {
   "cell_type": "markdown",
   "metadata": {
    "id": "3de10e33216f4278af7b922fd19dfc16"
   },
   "source": [
    "\n",
    "## Summary\n",
    "\n",
    "This notebook illustrates one approach to apply CI/CD against your models where you can automate continuous integration and delivery of models from UAT (or preProd) deployment space to production deployment space.\n"
   ]
  },
  {
   "cell_type": "markdown",
   "metadata": {
    "id": "3d754f96-2292-4a60-933d-1171b1f5f3ab"
   },
   "source": [
    "Copyright © 2022 IBM. This notebook and its source code are released under the terms of the MIT License."
   ]
  }
 ],
 "metadata": {
  "kernelspec": {
   "display_name": "Python 3.9",
   "language": "python",
   "name": "python3"
  },
  "language_info": {
   "codemirror_mode": {
    "name": "ipython",
    "version": 3
   },
   "file_extension": ".py",
   "mimetype": "text/x-python",
   "name": "python",
   "nbconvert_exporter": "python",
   "pygments_lexer": "ipython3",
   "version": "3.9.7"
  }
 },
 "nbformat": 4,
 "nbformat_minor": 4
}
